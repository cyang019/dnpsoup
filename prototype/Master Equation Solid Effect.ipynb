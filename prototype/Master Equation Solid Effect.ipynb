{
 "cells": [
  {
   "cell_type": "code",
   "execution_count": 60,
   "metadata": {},
   "outputs": [],
   "source": [
    "import numpy as np\n",
    "from scipy.linalg import expm, eig, solve, lstsq\n",
    "import matplotlib.pyplot as plt"
   ]
  },
  {
   "cell_type": "code",
   "execution_count": 2,
   "metadata": {},
   "outputs": [],
   "source": [
    "x = np.array([[0,0.5],[0.5,0]])\n",
    "y = np.array([[0,-0.5j],[0.5j,0]])\n",
    "z = np.array([[0.5,0],[0,-0.5]])\n",
    "sx = np.kron(x, np.identity(2))\n",
    "sy = np.kron(y, np.identity(2))\n",
    "sz = np.kron(z, np.identity(2))\n",
    "ix = np.kron(np.identity(2), x)\n",
    "iy = np.kron(np.identity(2), y)\n",
    "iz = np.kron(np.identity(2), z)"
   ]
  },
  {
   "cell_type": "code",
   "execution_count": 104,
   "metadata": {},
   "outputs": [],
   "source": [
    "ham_sz = 400e6 * np.kron(z, np.identity(2))\n",
    "ham_iz = 400e6 * np.kron(np.identity(2), z)\n",
    "ham_hf = 2e6 * np.kron(z, x)\n",
    "ham_emr = 1e6 * np.kron(x, np.identity(2))"
   ]
  },
  {
   "cell_type": "code",
   "execution_count": 105,
   "metadata": {},
   "outputs": [],
   "source": [
    "ham_offset = 263e9 * np.kron(z, np.identity(2))"
   ]
  },
  {
   "cell_type": "code",
   "execution_count": 106,
   "metadata": {},
   "outputs": [],
   "source": [
    "ham_int = ham_sz + ham_iz + ham_hf\n",
    "ham_eff = ham_int + ham_emr"
   ]
  },
  {
   "cell_type": "code",
   "execution_count": 107,
   "metadata": {},
   "outputs": [],
   "source": [
    "ham0 = ham_int + ham_offset"
   ]
  },
  {
   "cell_type": "code",
   "execution_count": 108,
   "metadata": {},
   "outputs": [],
   "source": [
    "ham_lab = ham_eff + ham_offset"
   ]
  },
  {
   "cell_type": "code",
   "execution_count": 109,
   "metadata": {},
   "outputs": [],
   "source": [
    "h = 6.62607004e-34\n",
    "k = 1.38064852e-23\n",
    "T = 100 # temperature"
   ]
  },
  {
   "cell_type": "code",
   "execution_count": 110,
   "metadata": {},
   "outputs": [],
   "source": [
    "rho0 = expm(-(h/(k*T)) * ham0)/np.trace(expm(-(h/(k*T)) * ham0))"
   ]
  },
  {
   "cell_type": "code",
   "execution_count": 111,
   "metadata": {},
   "outputs": [],
   "source": [
    "rho_eq = expm(-(h/(k*T)) * ham_lab)/np.trace(expm(-(h/(k*T)) * ham_lab))"
   ]
  },
  {
   "cell_type": "code",
   "execution_count": 112,
   "metadata": {},
   "outputs": [],
   "source": [
    "rho_eq_super = rho_eq.flatten()[np.newaxis].T"
   ]
  },
  {
   "cell_type": "code",
   "execution_count": 113,
   "metadata": {},
   "outputs": [],
   "source": [
    "dt = 1e2/263e9"
   ]
  },
  {
   "cell_type": "code",
   "execution_count": 114,
   "metadata": {},
   "outputs": [
    {
     "name": "stdout",
     "output_type": "stream",
     "text": [
      "[[1.-1.96438672e-15j 0.+0.00000000e+00j 0.+0.00000000e+00j\n",
      "  0.+0.00000000e+00j]\n",
      " [0.+0.00000000e+00j 1.-1.96438672e-15j 0.+0.00000000e+00j\n",
      "  0.+0.00000000e+00j]\n",
      " [0.+0.00000000e+00j 0.+0.00000000e+00j 1.+1.96438672e-15j\n",
      "  0.+0.00000000e+00j]\n",
      " [0.+0.00000000e+00j 0.+0.00000000e+00j 0.+0.00000000e+00j\n",
      "  1.+1.96438672e-15j]]\n"
     ]
    }
   ],
   "source": [
    "D = expm(-2.0j * np.pi * ham_offset * dt)\n",
    "print(D)"
   ]
  },
  {
   "cell_type": "code",
   "execution_count": 115,
   "metadata": {},
   "outputs": [],
   "source": [
    "def commutationSuperOp(op):\n",
    "    res = np.kron(op, np.identity(op.shape[0])) - np.kron(np.identity(op.shape[0]), op.T)\n",
    "    return res"
   ]
  },
  {
   "cell_type": "code",
   "execution_count": 116,
   "metadata": {},
   "outputs": [],
   "source": [
    "h_super = commutationSuperOp(ham_eff)"
   ]
  },
  {
   "cell_type": "code",
   "execution_count": 117,
   "metadata": {},
   "outputs": [],
   "source": [
    "eigenval, eigenvec = eig(ham_lab)"
   ]
  },
  {
   "cell_type": "code",
   "execution_count": 118,
   "metadata": {},
   "outputs": [],
   "source": [
    "t1e = 1.0e-3\n",
    "t2e = 1.0e-6\n",
    "t1n = 10\n",
    "t2n = 4.0e-3"
   ]
  },
  {
   "cell_type": "code",
   "execution_count": 119,
   "metadata": {},
   "outputs": [],
   "source": [
    "def secularRelaxationSuperOp(op):\n",
    "    Aq = commutationSuperOp(op)\n",
    "    Anq = commutationSuperOp(op.conjugate().T)\n",
    "    return np.dot(Anq, Aq)"
   ]
  },
  {
   "cell_type": "code",
   "execution_count": 120,
   "metadata": {},
   "outputs": [],
   "source": [
    "def t1SuperOp(t1, eigenvec, x, y):\n",
    "    x_rotated = np.dot(eigenvec, np.dot(x, eigenvec.conjugate().T))\n",
    "    y_rotated = np.dot(eigenvec, np.dot(y, eigenvec.conjugate().T))\n",
    "    \n",
    "    part_x = secularRelaxationSuperOp(x_rotated)\n",
    "    part_y = secularRelaxationSuperOp(y_rotated)\n",
    "    \n",
    "    return 0.5 * 1.0/t1 * (part_x + part_y)"
   ]
  },
  {
   "cell_type": "code",
   "execution_count": 121,
   "metadata": {},
   "outputs": [],
   "source": [
    "def t2SuperOp(t2, eigenvec, z):\n",
    "    z_rotated = np.dot(eigenvec, np.dot(z, eigenvec.conjugate().T))\n",
    "    \n",
    "    part_z = secularRelaxationSuperOp(z_rotated)\n",
    "    \n",
    "    return 1.0/t2 * part_z"
   ]
  },
  {
   "cell_type": "code",
   "execution_count": 122,
   "metadata": {},
   "outputs": [],
   "source": [
    "gamma_t1e = t1SuperOp(t1e, eigenvec, sx, sy)\n",
    "gamma_t1n = t1SuperOp(t1n, eigenvec, ix, iy)\n",
    "gamma_t2e = t2SuperOp(t2e, eigenvec, sz)\n",
    "gamma_t2n = t2SuperOp(t2n, eigenvec, iz)"
   ]
  },
  {
   "cell_type": "code",
   "execution_count": 123,
   "metadata": {},
   "outputs": [],
   "source": [
    "gamma_lab = gamma_t1e + gamma_t2e + gamma_t1n + gamma_t2n"
   ]
  },
  {
   "cell_type": "code",
   "execution_count": 124,
   "metadata": {},
   "outputs": [],
   "source": [
    "L = 1.0j * h_super + gamma_lab"
   ]
  },
  {
   "cell_type": "code",
   "execution_count": 125,
   "metadata": {},
   "outputs": [],
   "source": [
    "gamma_rho_eq_super = np.dot(gamma_lab, rho_eq_super)"
   ]
  },
  {
   "cell_type": "code",
   "execution_count": 126,
   "metadata": {
    "scrolled": true
   },
   "outputs": [],
   "source": [
    "results = lstsq(L, gamma_rho_eq_super)"
   ]
  },
  {
   "cell_type": "code",
   "execution_count": 127,
   "metadata": {},
   "outputs": [
    {
     "data": {
      "text/plain": [
       "array([[-2.10850004e-10+1.16951782e-10j],\n",
       "       [-1.92493346e-10+2.36468622e-11j],\n",
       "       [-5.93825649e-11-1.20537125e-10j],\n",
       "       [-1.21291574e-11-4.83169060e-12j],\n",
       "       [-1.92711126e-10+5.59339242e-11j],\n",
       "       [-1.76321180e-11+2.02362571e-11j],\n",
       "       [-7.53973136e-12+7.35056460e-12j],\n",
       "       [-3.63125384e-10-1.14444364e-10j],\n",
       "       [-5.91749285e-11-8.74255460e-11j],\n",
       "       [-1.81730882e-12-1.34114941e-11j],\n",
       "       [-2.26135555e-10+1.16664012e-10j],\n",
       "       [ 2.65388507e-10-3.09796633e-11j],\n",
       "       [ 1.56839069e-11+5.19406740e-12j],\n",
       "       [-4.33855501e-10-3.69632207e-11j],\n",
       "       [ 1.16596635e-10+1.65528036e-10j],\n",
       "       [ 4.54605242e-10-2.53852050e-10j]])"
      ]
     },
     "execution_count": 127,
     "metadata": {},
     "output_type": "execute_result"
    }
   ],
   "source": [
    "gamma_rho_eq_super - np.dot(L, results[0])"
   ]
  },
  {
   "cell_type": "code",
   "execution_count": 128,
   "metadata": {},
   "outputs": [
    {
     "data": {
      "text/plain": [
       "array([[-3.08750557e-02+2.95180996e-11j],\n",
       "       [-3.79844430e-05+1.51704299e-09j],\n",
       "       [-3.91989394e-05-9.94146044e-08j],\n",
       "       [ 1.51796015e-09+1.28224464e-10j],\n",
       "       [-3.79844430e-05-1.51722469e-09j],\n",
       "       [-4.87401817e-04+1.02199915e-10j],\n",
       "       [-9.80020549e-08+1.21358606e-06j],\n",
       "       [-3.92064659e-05-9.94334018e-08j],\n",
       "       [-3.91989394e-05+9.94146038e-08j],\n",
       "       [-9.80022359e-08-1.21358606e-06j],\n",
       "       [ 4.84391199e-04+2.97430196e-11j],\n",
       "       [ 3.79919695e-05-1.51704277e-09j],\n",
       "       [ 1.51796015e-09-1.28224690e-10j],\n",
       "       [-3.92064659e-05+9.94334005e-08j],\n",
       "       [ 3.79919695e-05+1.51722515e-09j],\n",
       "       [ 3.08780664e-02+1.02696510e-10j]])"
      ]
     },
     "execution_count": 128,
     "metadata": {},
     "output_type": "execute_result"
    }
   ],
   "source": [
    "results[0]"
   ]
  },
  {
   "cell_type": "code",
   "execution_count": 129,
   "metadata": {},
   "outputs": [],
   "source": [
    "acq_e, acq_h = np.kron(z, np.identity(2)), np.kron(np.identity(2), z)"
   ]
  },
  {
   "cell_type": "code",
   "execution_count": 130,
   "metadata": {},
   "outputs": [],
   "source": [
    "acq_e = acq_e.flatten()[np.newaxis]\n",
    "acq_h = acq_h.flatten()[np.newaxis]"
   ]
  },
  {
   "cell_type": "code",
   "execution_count": 131,
   "metadata": {},
   "outputs": [],
   "source": [
    "result = results[0]"
   ]
  },
  {
   "cell_type": "code",
   "execution_count": 132,
   "metadata": {},
   "outputs": [
    {
     "name": "stdout",
     "output_type": "stream",
     "text": [
      "[[-0.03136246-3.60757589e-13j]] [[-0.03039066-7.28176531e-11j]]\n"
     ]
    }
   ],
   "source": [
    "val_e = np.dot(acq_e.conjugate(), result)\n",
    "val_h = np.dot(acq_h.conjugate(), result)\n",
    "print(val_e, val_h)"
   ]
  },
  {
   "cell_type": "code",
   "execution_count": null,
   "metadata": {},
   "outputs": [],
   "source": []
  }
 ],
 "metadata": {
  "kernelspec": {
   "display_name": "Python 3",
   "language": "python",
   "name": "python3"
  },
  "language_info": {
   "codemirror_mode": {
    "name": "ipython",
    "version": 3
   },
   "file_extension": ".py",
   "mimetype": "text/x-python",
   "name": "python",
   "nbconvert_exporter": "python",
   "pygments_lexer": "ipython3",
   "version": "3.7.4"
  }
 },
 "nbformat": 4,
 "nbformat_minor": 2
}
