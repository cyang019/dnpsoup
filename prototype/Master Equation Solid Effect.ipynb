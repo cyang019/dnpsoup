{
 "cells": [
  {
   "cell_type": "code",
   "execution_count": null,
   "metadata": {},
   "outputs": [],
   "source": [
    "import numpy as np\n",
    "from scipy.linalg import expm, eig, solve, lstsq\n",
    "import matplotlib.pyplot as plt"
   ]
  },
  {
   "cell_type": "code",
   "execution_count": null,
   "metadata": {},
   "outputs": [],
   "source": [
    "x = np.array([[0,0.5],[0.5,0]])\n",
    "y = np.array([[0,-0.5j],[0.5j,0]])\n",
    "z = np.array([[0.5,0],[0,-0.5]])\n",
    "sx = np.kron(x, np.identity(2))\n",
    "sy = np.kron(y, np.identity(2))\n",
    "sz = np.kron(z, np.identity(2))\n",
    "ix = np.kron(np.identity(2), x)\n",
    "iy = np.kron(np.identity(2), y)\n",
    "iz = np.kron(np.identity(2), z)"
   ]
  },
  {
   "cell_type": "code",
   "execution_count": null,
   "metadata": {},
   "outputs": [],
   "source": [
    "ham_sz = 400e6 * np.kron(z, np.identity(2))\n",
    "ham_iz = 400e6 * np.kron(np.identity(2), z)\n",
    "ham_hf = 2e6 * np.kron(z, x)\n",
    "ham_emr = 1e6 * np.kron(x, np.identity(2))"
   ]
  },
  {
   "cell_type": "code",
   "execution_count": null,
   "metadata": {},
   "outputs": [],
   "source": [
    "ham_offset = 263e9 * np.kron(z, np.identity(2))"
   ]
  },
  {
   "cell_type": "code",
   "execution_count": null,
   "metadata": {},
   "outputs": [],
   "source": [
    "ham_int = ham_sz + ham_iz + ham_hf\n",
    "ham_eff = ham_int + ham_emr"
   ]
  },
  {
   "cell_type": "code",
   "execution_count": null,
   "metadata": {},
   "outputs": [],
   "source": [
    "ham0 = ham_int + ham_offset"
   ]
  },
  {
   "cell_type": "code",
   "execution_count": null,
   "metadata": {},
   "outputs": [],
   "source": [
    "ham_lab = ham_eff + ham_offset"
   ]
  },
  {
   "cell_type": "code",
   "execution_count": null,
   "metadata": {},
   "outputs": [],
   "source": [
    "h = 6.62607004e-34\n",
    "k = 1.38064852e-23\n",
    "T = 100 # temperature"
   ]
  },
  {
   "cell_type": "code",
   "execution_count": null,
   "metadata": {},
   "outputs": [],
   "source": [
    "rho0 = expm(-(h/(k*T)) * ham0)/np.trace(expm(-(h/(k*T)) * ham0))"
   ]
  },
  {
   "cell_type": "code",
   "execution_count": null,
   "metadata": {},
   "outputs": [],
   "source": [
    "rho_eq = expm(-(h/(k*T)) * ham_lab)/np.trace(expm(-(h/(k*T)) * ham_lab))"
   ]
  },
  {
   "cell_type": "code",
   "execution_count": null,
   "metadata": {},
   "outputs": [],
   "source": [
    "rho_eq_super = rho_eq.flatten()[np.newaxis].T"
   ]
  },
  {
   "cell_type": "code",
   "execution_count": null,
   "metadata": {},
   "outputs": [],
   "source": [
    "dt = 1e2/263e9"
   ]
  },
  {
   "cell_type": "code",
   "execution_count": null,
   "metadata": {},
   "outputs": [],
   "source": [
    "D = expm(-2.0j * np.pi * ham_offset * dt)\n",
    "print(D)"
   ]
  },
  {
   "cell_type": "code",
   "execution_count": null,
   "metadata": {},
   "outputs": [],
   "source": [
    "def commutationSuperOp(op):\n",
    "    res = np.kron(op, np.identity(op.shape[0])) - np.kron(np.identity(op.shape[0]), op.T)\n",
    "    return res"
   ]
  },
  {
   "cell_type": "code",
   "execution_count": null,
   "metadata": {},
   "outputs": [],
   "source": [
    "h_super = commutationSuperOp(ham_eff)"
   ]
  },
  {
   "cell_type": "code",
   "execution_count": null,
   "metadata": {},
   "outputs": [],
   "source": [
    "eigenval, eigenvec = eig(ham_lab)"
   ]
  },
  {
   "cell_type": "code",
   "execution_count": null,
   "metadata": {},
   "outputs": [],
   "source": [
    "t1e = 1.0e-3\n",
    "t2e = 1.0e-6\n",
    "t1n = 10\n",
    "t2n = 4.0e-3"
   ]
  },
  {
   "cell_type": "code",
   "execution_count": null,
   "metadata": {},
   "outputs": [],
   "source": [
    "def secularRelaxationSuperOp(op):\n",
    "    Aq = commutationSuperOp(op)\n",
    "    Anq = commutationSuperOp(op.conjugate().T)\n",
    "    return np.dot(Anq, Aq)"
   ]
  },
  {
   "cell_type": "code",
   "execution_count": null,
   "metadata": {},
   "outputs": [],
   "source": [
    "def t1SuperOp(t1, eigenvec, x, y):\n",
    "    x_rotated = np.dot(eigenvec, np.dot(x, eigenvec.conjugate().T))\n",
    "    y_rotated = np.dot(eigenvec, np.dot(y, eigenvec.conjugate().T))\n",
    "    \n",
    "    part_x = secularRelaxationSuperOp(x_rotated)\n",
    "    part_y = secularRelaxationSuperOp(y_rotated)\n",
    "    \n",
    "    return 0.5 * 1.0/t1 * (part_x + part_y)"
   ]
  },
  {
   "cell_type": "code",
   "execution_count": null,
   "metadata": {},
   "outputs": [],
   "source": [
    "def t2SuperOp(t2, eigenvec, z):\n",
    "    z_rotated = np.dot(eigenvec, np.dot(z, eigenvec.conjugate().T))\n",
    "    \n",
    "    part_z = secularRelaxationSuperOp(z_rotated)\n",
    "    \n",
    "    return 1.0/t2 * part_z"
   ]
  },
  {
   "cell_type": "code",
   "execution_count": null,
   "metadata": {},
   "outputs": [],
   "source": [
    "gamma_t1e = t1SuperOp(t1e, eigenvec, sx, sy)\n",
    "gamma_t1n = t1SuperOp(t1n, eigenvec, ix, iy)\n",
    "gamma_t2e = t2SuperOp(t2e, eigenvec, sz)\n",
    "gamma_t2n = t2SuperOp(t2n, eigenvec, iz)"
   ]
  },
  {
   "cell_type": "code",
   "execution_count": null,
   "metadata": {},
   "outputs": [],
   "source": [
    "gamma_lab = gamma_t1e + gamma_t2e + gamma_t1n + gamma_t2n"
   ]
  },
  {
   "cell_type": "code",
   "execution_count": null,
   "metadata": {},
   "outputs": [],
   "source": [
    "L = 1.0j * h_super + gamma_lab"
   ]
  },
  {
   "cell_type": "code",
   "execution_count": null,
   "metadata": {},
   "outputs": [],
   "source": [
    "gamma_rho_eq_super = np.dot(gamma_lab, rho_eq_super)"
   ]
  },
  {
   "cell_type": "code",
   "execution_count": null,
   "metadata": {
    "scrolled": true
   },
   "outputs": [],
   "source": [
    "results = lstsq(L, gamma_rho_eq_super)"
   ]
  },
  {
   "cell_type": "code",
   "execution_count": null,
   "metadata": {},
   "outputs": [],
   "source": [
    "L"
   ]
  },
  {
   "cell_type": "code",
   "execution_count": null,
   "metadata": {},
   "outputs": [],
   "source": [
    "for i in range(L.shape[0]):\n",
    "    print('{\\n  ', end='')\n",
    "    for j in range(L.shape[1]-1):\n",
    "        print('cxdbl({}, {}), '.format(L[i,j].real, L[i,j].imag), end='')\n",
    "    print('cxdbl({}, {}), '.format(L[i,L.shape[1]-1].real, L[i,L.shape[1]-1].imag), end='')\n",
    "    print('\\n},')"
   ]
  },
  {
   "cell_type": "code",
   "execution_count": null,
   "metadata": {
    "scrolled": true
   },
   "outputs": [],
   "source": [
    "gamma_rho_eq_super - np.dot(L, results[0])"
   ]
  },
  {
   "cell_type": "code",
   "execution_count": null,
   "metadata": {},
   "outputs": [],
   "source": [
    "for i in range(gamma_rho_eq_super.shape[0]):\n",
    "    print('{\\n  ', end='')\n",
    "    for j in range(gamma_rho_eq_super.shape[1]-1):\n",
    "        print('cxdbl({}, {}), '.format(gamma_rho_eq_super[i,j].real, gamma_rho_eq_super[i,j].imag), end='')\n",
    "    print('cxdbl({}, {}), '.format(gamma_rho_eq_super[i,gamma_rho_eq_super.shape[1]-1].real, \n",
    "                                   gamma_rho_eq_super[i,gamma_rho_eq_super.shape[1]-1].imag), end='')\n",
    "    print('\\n},')"
   ]
  },
  {
   "cell_type": "code",
   "execution_count": null,
   "metadata": {
    "scrolled": true
   },
   "outputs": [],
   "source": [
    "results[0]"
   ]
  },
  {
   "cell_type": "code",
   "execution_count": null,
   "metadata": {},
   "outputs": [],
   "source": [
    "for i in range(results[0].shape[0]):\n",
    "    print('{\\n  ', end='')\n",
    "    for j in range(results[0].shape[1]-1):\n",
    "        print('cxdbl({}, {}), '.format(results[0][i,j].real, results[0][i,j].imag), end='')\n",
    "    print('cxdbl({}, {}), '.format(results[0][i,results[0].shape[1]-1].real, \n",
    "                                   results[0][i,results[0].shape[1]-1].imag), end='')\n",
    "    print('\\n},')"
   ]
  },
  {
   "cell_type": "code",
   "execution_count": null,
   "metadata": {},
   "outputs": [],
   "source": [
    "acq_e, acq_h = np.kron(z, np.identity(2)), np.kron(np.identity(2), z)"
   ]
  },
  {
   "cell_type": "code",
   "execution_count": null,
   "metadata": {},
   "outputs": [],
   "source": [
    "acq_e = acq_e.flatten()[np.newaxis]\n",
    "acq_h = acq_h.flatten()[np.newaxis]"
   ]
  },
  {
   "cell_type": "code",
   "execution_count": null,
   "metadata": {},
   "outputs": [],
   "source": [
    "result = results[0]"
   ]
  },
  {
   "cell_type": "code",
   "execution_count": null,
   "metadata": {},
   "outputs": [],
   "source": [
    "val_e = np.dot(acq_e.conjugate(), result)\n",
    "val_h = np.dot(acq_h.conjugate(), result)\n",
    "print(val_e, val_h)"
   ]
  },
  {
   "cell_type": "code",
   "execution_count": null,
   "metadata": {},
   "outputs": [],
   "source": []
  }
 ],
 "metadata": {
  "kernelspec": {
   "display_name": "Python 3",
   "language": "python",
   "name": "python3"
  },
  "language_info": {
   "codemirror_mode": {
    "name": "ipython",
    "version": 3
   },
   "file_extension": ".py",
   "mimetype": "text/x-python",
   "name": "python",
   "nbconvert_exporter": "python",
   "pygments_lexer": "ipython3",
   "version": "3.9.0"
  }
 },
 "nbformat": 4,
 "nbformat_minor": 2
}
