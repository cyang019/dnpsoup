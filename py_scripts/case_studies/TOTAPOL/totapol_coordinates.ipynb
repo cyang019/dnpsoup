{
 "cells": [
  {
   "cell_type": "code",
   "execution_count": null,
   "metadata": {},
   "outputs": [],
   "source": [
    "import json\n",
    "import os\n",
    "import matplotlib.pyplot as plt\n",
    "from mpl_toolkits.mplot3d import Axes3D\n",
    "import numpy as np"
   ]
  },
  {
   "cell_type": "code",
   "execution_count": null,
   "metadata": {},
   "outputs": [],
   "source": [
    "%matplotlib notebook"
   ]
  },
  {
   "cell_type": "markdown",
   "metadata": {},
   "source": [
    "+ Hu, K.-N., Song, C., Yu, H., Swager, T. M., & Griffin, R. G. (2008). High-frequency dynamic nuclear polarization using biradicals: A multifrequency EPR lineshape analysis. The Journal of Chemical Physics, 128(5), 052302. https://doi.org/10.1063/1.2816783"
   ]
  },
  {
   "cell_type": "markdown",
   "metadata": {},
   "source": [
    "TOTAPOL\n",
    "\n",
    "| e-e distance | g-tensor Euler (Active) | e-e orientation |\n",
    "| --- | --- | --- |\n",
    "| 13.1 A | $\\alpha$ -124, $\\beta$ -108, $\\gamma$ -107 | $\\alpha$ 127, $\\beta$ 94 |"
   ]
  },
  {
   "cell_type": "code",
   "execution_count": null,
   "metadata": {},
   "outputs": [],
   "source": [
    "# held 1st e at (0,0,0)\n",
    "# derive coordinate for the 2nd e\n",
    "z = np.cos(94 / 180.0 * np.pi) * 13.1\n",
    "xy = np.sin(94 / 180.0 * np.pi) * 13.1\n",
    "print(f'z: {z}, xy: {xy}')\n",
    "x = np.cos(127/180.0 * np.pi) * xy\n",
    "y = np.sin(127/180.0 * np.pi) * xy\n",
    "print(f'x: {x}, y: {y}')"
   ]
  },
  {
   "cell_type": "code",
   "execution_count": null,
   "metadata": {},
   "outputs": [],
   "source": []
  },
  {
   "cell_type": "markdown",
   "metadata": {},
   "source": [
    "## Examine json file downloaded from https://pubchem.ncbi.nlm.nih.gov/compound/101411753#section=3D-Conformer"
   ]
  },
  {
   "cell_type": "code",
   "execution_count": null,
   "metadata": {},
   "outputs": [],
   "source": [
    "totapol_json_file = 'Conformer3D_CID_101411753.json'"
   ]
  },
  {
   "cell_type": "code",
   "execution_count": null,
   "metadata": {},
   "outputs": [],
   "source": [
    "with open(totapol_json_file, 'r', encoding='utf-8') as f:\n",
    "    totapol_js = json.load(f)"
   ]
  },
  {
   "cell_type": "code",
   "execution_count": null,
   "metadata": {},
   "outputs": [],
   "source": [
    "totapol_js.keys()"
   ]
  },
  {
   "cell_type": "code",
   "execution_count": null,
   "metadata": {},
   "outputs": [],
   "source": [
    "len(totapol_js['PC_Compounds'])"
   ]
  },
  {
   "cell_type": "code",
   "execution_count": null,
   "metadata": {},
   "outputs": [],
   "source": [
    "totapol_js['PC_Compounds'][0].keys()"
   ]
  },
  {
   "cell_type": "code",
   "execution_count": null,
   "metadata": {},
   "outputs": [],
   "source": [
    "totapol_js = totapol_js['PC_Compounds'][0]"
   ]
  },
  {
   "cell_type": "code",
   "execution_count": null,
   "metadata": {
    "scrolled": true
   },
   "outputs": [],
   "source": [
    "totapol_js['id']"
   ]
  },
  {
   "cell_type": "code",
   "execution_count": null,
   "metadata": {},
   "outputs": [],
   "source": [
    "totapol_js['atoms'].keys()"
   ]
  },
  {
   "cell_type": "code",
   "execution_count": null,
   "metadata": {},
   "outputs": [],
   "source": [
    "# H, C, N, O\n",
    "np.unique(totapol_js['atoms']['element'])"
   ]
  },
  {
   "cell_type": "code",
   "execution_count": null,
   "metadata": {},
   "outputs": [],
   "source": [
    "len(totapol_js['coords'])"
   ]
  },
  {
   "cell_type": "code",
   "execution_count": null,
   "metadata": {},
   "outputs": [],
   "source": [
    "coords = totapol_js['coords'][0]"
   ]
  },
  {
   "cell_type": "code",
   "execution_count": null,
   "metadata": {},
   "outputs": [],
   "source": [
    "coords.keys()"
   ]
  },
  {
   "cell_type": "code",
   "execution_count": null,
   "metadata": {},
   "outputs": [],
   "source": [
    "len(coords['conformers'])"
   ]
  },
  {
   "cell_type": "code",
   "execution_count": null,
   "metadata": {},
   "outputs": [],
   "source": [
    "coords['conformers'][0].keys()"
   ]
  },
  {
   "cell_type": "code",
   "execution_count": null,
   "metadata": {},
   "outputs": [],
   "source": [
    "x = coords['conformers'][0]['x']\n",
    "y = coords['conformers'][0]['y']\n",
    "z = coords['conformers'][0]['z']"
   ]
  },
  {
   "cell_type": "code",
   "execution_count": null,
   "metadata": {},
   "outputs": [],
   "source": [
    "totapol_js['bonds'].keys()"
   ]
  },
  {
   "cell_type": "code",
   "execution_count": null,
   "metadata": {},
   "outputs": [],
   "source": [
    "aid1 = totapol_js['bonds']['aid1']\n",
    "aid2 = totapol_js['bonds']['aid2']"
   ]
  },
  {
   "cell_type": "code",
   "execution_count": null,
   "metadata": {},
   "outputs": [],
   "source": [
    "bonds = []\n",
    "for atom1, atom2 in zip(aid1, aid2):\n",
    "    temp_x = [x[atom1-1], x[atom2-1]]\n",
    "    temp_y = [y[atom1-1], y[atom2-1]]\n",
    "    temp_z = [z[atom1-1], z[atom2-1]]\n",
    "    bonds.append([temp_x, temp_y, temp_z])"
   ]
  },
  {
   "cell_type": "code",
   "execution_count": null,
   "metadata": {},
   "outputs": [],
   "source": [
    "color_identities = {\n",
    "    1: '#C0C0C0',\n",
    "    6: '#778899',\n",
    "    7: '#0000FF',\n",
    "    8: '#FF0000'\n",
    "}"
   ]
  },
  {
   "cell_type": "code",
   "execution_count": null,
   "metadata": {},
   "outputs": [],
   "source": [
    "colors = [color_identities[i] for i in totapol_js['atoms']['element']]"
   ]
  },
  {
   "cell_type": "code",
   "execution_count": null,
   "metadata": {},
   "outputs": [],
   "source": [
    "fig = plt.figure(figsize=(5,5))\n",
    "ax = fig.add_subplot(111, projection='3d')\n",
    "ax.scatter(x, y, z, marker='o', c=colors)\n",
    "for bond in bonds:\n",
    "    temp_x, temp_y, temp_z = bond\n",
    "    ax.plot(temp_x, temp_y, temp_z, c='#A9A9A9')\n",
    "plt.show()"
   ]
  },
  {
   "cell_type": "code",
   "execution_count": null,
   "metadata": {},
   "outputs": [],
   "source": [
    "# select the two CO bonds\n",
    "elements = totapol_js['atoms']['element']\n",
    "bonds_selected = []\n",
    "elements_selected = []\n",
    "\n",
    "for atom1, atom2 in zip(aid1, aid2):\n",
    "    two_elements = [elements[atom1-1], elements[atom2-1]]\n",
    "    two_elements = sorted(two_elements)\n",
    "    if two_elements == [7,8]:\n",
    "        temp_x = [x[atom1-1], x[atom2-1]]\n",
    "        temp_y = [y[atom1-1], y[atom2-1]]\n",
    "        temp_z = [z[atom1-1], z[atom2-1]]\n",
    "        bonds_selected.append([temp_x, temp_y, temp_z])\n",
    "        elements_selected += two_elements\n",
    "        \n",
    "x_selected, y_selected, z_selected = [], [], []\n",
    "for temp_xs, temp_ys, temp_zs in bonds_selected:\n",
    "    x_selected += temp_xs\n",
    "    y_selected += temp_ys\n",
    "    z_selected += temp_zs\n",
    "    \n",
    "colors_selected = [color_identities[i] for i in elements_selected]"
   ]
  },
  {
   "cell_type": "code",
   "execution_count": null,
   "metadata": {},
   "outputs": [],
   "source": [
    "bonds_selected"
   ]
  },
  {
   "cell_type": "code",
   "execution_count": null,
   "metadata": {},
   "outputs": [],
   "source": [
    "n1 = [-3.9931, -1.3567, 0.282]\n",
    "n2 = [3.66, -1.6918, -0.1322]\n",
    "o1 = [-4.7671, -2.5706, 0.5048]"
   ]
  },
  {
   "cell_type": "code",
   "execution_count": null,
   "metadata": {},
   "outputs": [],
   "source": [
    "def calc_distance(pt1, pt2):\n",
    "    arr1 = np.array(pt1)\n",
    "    arr2 = np.array(pt2)\n",
    "    v21 = arr1 - arr2\n",
    "    dist = np.sqrt(v21.dot(v21))\n",
    "    return dist"
   ]
  },
  {
   "cell_type": "code",
   "execution_count": null,
   "metadata": {},
   "outputs": [],
   "source": [
    "d_n1n2 = calc_distance(n1, n2)\n",
    "print(f'Two Nitrogens are {d_n1n2} Anstroms apart')\n",
    "\n",
    "d_n1o1 = calc_distance(n1, o1)\n",
    "print(f'N1-O1: {d_n1o1}')\n",
    "d_n2o1 = calc_distance(n2, o1)\n",
    "print(f'N2-O1: {d_n2o1}')"
   ]
  },
  {
   "cell_type": "code",
   "execution_count": null,
   "metadata": {},
   "outputs": [],
   "source": [
    "def calc_angle(a, b, c):\n",
    "    cos_angle = (a**2 + b**2 - c**2)/(2. * a * b)\n",
    "    angle = np.arccos(cos_angle)\n",
    "    return angle / np.pi * 180.0"
   ]
  },
  {
   "cell_type": "code",
   "execution_count": null,
   "metadata": {},
   "outputs": [],
   "source": [
    "calc_angle(d_n1o1, d_n1n2, d_n2o1)"
   ]
  },
  {
   "cell_type": "code",
   "execution_count": null,
   "metadata": {},
   "outputs": [],
   "source": [
    "d_n1n2 * np.cos(120.1 * np.pi / 180)"
   ]
  },
  {
   "cell_type": "code",
   "execution_count": null,
   "metadata": {},
   "outputs": [],
   "source": [
    "d_n1n2 * np.sin(120.1 * np.pi / 180)"
   ]
  },
  {
   "cell_type": "code",
   "execution_count": null,
   "metadata": {},
   "outputs": [],
   "source": [
    "8 * np.cos(120.1 * np.pi / 180)"
   ]
  },
  {
   "cell_type": "code",
   "execution_count": null,
   "metadata": {},
   "outputs": [],
   "source": [
    "8 * np.sin(120.1 * np.pi / 180)"
   ]
  },
  {
   "cell_type": "code",
   "execution_count": null,
   "metadata": {},
   "outputs": [],
   "source": [
    "fig = plt.figure(figsize=(5,5))\n",
    "ax = fig.add_subplot(111, projection='3d')\n",
    "ax.scatter(x_selected, y_selected, z_selected, marker='o', c=colors_selected)\n",
    "for bond in bonds_selected:\n",
    "    temp_x, temp_y, temp_z = bond\n",
    "    ax.plot(temp_x, temp_y, temp_z, c='#A9A9A9')\n",
    "plt.title('NO bonds')\n",
    "plt.show()"
   ]
  },
  {
   "cell_type": "markdown",
   "metadata": {},
   "source": [
    "### To get the angles between the two bonds"
   ]
  },
  {
   "cell_type": "code",
   "execution_count": null,
   "metadata": {},
   "outputs": [],
   "source": [
    "coords1 = np.array(bonds_selected[0])\n",
    "coords2 = np.array(bonds_selected[1])"
   ]
  },
  {
   "cell_type": "code",
   "execution_count": null,
   "metadata": {},
   "outputs": [],
   "source": [
    "coords1.shape"
   ]
  },
  {
   "cell_type": "code",
   "execution_count": null,
   "metadata": {},
   "outputs": [],
   "source": [
    "vec1 = coords1[:, 1] - coords1[:, 0]\n",
    "vec1"
   ]
  },
  {
   "cell_type": "code",
   "execution_count": null,
   "metadata": {},
   "outputs": [],
   "source": [
    "vec2 = coords2[:, 1] - coords2[:, 0]\n",
    "vec2"
   ]
  },
  {
   "cell_type": "code",
   "execution_count": null,
   "metadata": {},
   "outputs": [],
   "source": [
    "vec1to2 = vec2 - vec1\n",
    "vec1to2"
   ]
  },
  {
   "cell_type": "code",
   "execution_count": null,
   "metadata": {},
   "outputs": [],
   "source": [
    "a = np.sqrt(np.sum(vec1**2))\n",
    "b = np.sqrt(np.sum(vec2**2))\n",
    "c = np.sqrt(np.sum(vec1to2**2))"
   ]
  },
  {
   "cell_type": "code",
   "execution_count": null,
   "metadata": {},
   "outputs": [],
   "source": [
    "theta = np.arccos((a**2 + b**2 - c**2)/(2*a*b))"
   ]
  },
  {
   "cell_type": "code",
   "execution_count": null,
   "metadata": {},
   "outputs": [],
   "source": [
    "theta * 180.0/np.pi"
   ]
  },
  {
   "cell_type": "code",
   "execution_count": null,
   "metadata": {},
   "outputs": [],
   "source": []
  }
 ],
 "metadata": {
  "kernelspec": {
   "display_name": "Python 3",
   "language": "python",
   "name": "python3"
  },
  "language_info": {
   "codemirror_mode": {
    "name": "ipython",
    "version": 3
   },
   "file_extension": ".py",
   "mimetype": "text/x-python",
   "name": "python",
   "nbconvert_exporter": "python",
   "pygments_lexer": "ipython3",
   "version": "3.9.0"
  }
 },
 "nbformat": 4,
 "nbformat_minor": 2
}
