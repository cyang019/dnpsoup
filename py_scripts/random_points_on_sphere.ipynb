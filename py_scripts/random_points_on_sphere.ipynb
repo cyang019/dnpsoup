{
 "cells": [
  {
   "cell_type": "code",
   "execution_count": null,
   "metadata": {},
   "outputs": [],
   "source": [
    "import os\n",
    "import sys\n",
    "import numpy as np\n",
    "import pandas as pd\n",
    "import matplotlib.pyplot as plt\n",
    "%matplotlib inline"
   ]
  },
  {
   "cell_type": "code",
   "execution_count": null,
   "metadata": {},
   "outputs": [],
   "source": [
    "class Angle:\n",
    "    def __init__(self, theta, phi):\n",
    "        self.theta = theta\n",
    "        self.phi = phi\n",
    "        \n",
    "def calc_coordinate(angle, radius):\n",
    "    z = radius * np.cos(angle.theta)\n",
    "    xy = radius * np.sin(angle.theta)\n",
    "    x = xy * np.cos(angle.phi)\n",
    "    y = xy * np.sin(angle.phi)\n",
    "    return x, y, z"
   ]
  },
  {
   "cell_type": "code",
   "execution_count": null,
   "metadata": {},
   "outputs": [],
   "source": [
    "def calc_angle_dist(angle1, angle2):\n",
    "    coord1 = calc_coordinate(angle1, 1.0)\n",
    "    coord2 = calc_coordinate(angle2, 1.0)\n",
    "    dx = coord1[0] - coord2[0]\n",
    "    dy = coord1[1] - coord2[1]\n",
    "    dz = coord1[2] - coord2[2]\n",
    "    \n",
    "    d1 = np.sqrt(coord1[0]**2 + coord1[1] **2 + coord1[2]**2)\n",
    "    d2 = np.sqrt(coord2[0]**2 + coord2[1] **2 + coord2[2]**2)\n",
    "    d3 = np.sqrt(dx**2 + dy**2 + dz**2)\n",
    "    cos_dist = np.arccos((d1**2 + d2**2 - d3**2)/(2.0*d1*d2))\n",
    "    return cos_dist\n",
    "\n",
    "def gen_random_angles(count, theta_offset=0, phi_offset=0, theta_range=np.pi, phi_range=np.pi, multiplier=5):\n",
    "    sz = multiplier * count + 1\n",
    "    angles = []\n",
    "    theta_list = np.random.uniform(0, theta_range, sz)\n",
    "    phi_list = np.random.uniform(0, phi_range, sz)\n",
    "    for theta, phi in zip(theta_list, phi_list):\n",
    "        theta += theta_offset\n",
    "        phi += phi_offset\n",
    "        angles.append(Angle(theta, phi))\n",
    "    return angles\n",
    "\n",
    "\n",
    "def gen_poisson_disc_angles(count, theta_offset=0, phi_offset=0, theta_range=np.pi, phi_range=np.pi, multiplier=5, verbose=False):\n",
    "    angles = []\n",
    "    for i in range(count):\n",
    "        candidates = gen_random_angles(i, theta_offset, phi_offset, theta_range, phi_range, multiplier)\n",
    "        best_dist = 0\n",
    "        best_angle = None\n",
    "        for candidate in candidates:\n",
    "            min_dist = sys.float_info.max\n",
    "            for angle in angles:\n",
    "                dist = calc_angle_dist(candidate, angle)\n",
    "                if dist < min_dist:\n",
    "                    min_dist = dist\n",
    "            if min_dist > best_dist:\n",
    "                best_dist = min_dist\n",
    "                best_angle = candidate\n",
    "        angles.append(best_angle)\n",
    "        if verbose:\n",
    "            print('.', end=\"\")\n",
    "    return angles\n",
    "    \n",
    "\n",
    "def gen_random_points(count, radius, theta_offset=0, phi_offset=0, multiplier=5, verbose=False):\n",
    "    angles = gen_poisson_disc_angles(count, theta_offset, phi_offset, multiplier, verbose)\n",
    "#     phi_range = -phi_offset, -phi_offset + np.pi\n",
    "#     selected = []\n",
    "#     for angle in angles:\n",
    "#         if angle.phi >= phi_range[0] and angle.phi < phi_range[1]:\n",
    "#             selected.append(angle)\n",
    "    res = []\n",
    "    for angle in angles:\n",
    "        coord = calc_coordinate(angle, radius)\n",
    "        res.append(coord)\n",
    "    return res"
   ]
  },
  {
   "cell_type": "code",
   "execution_count": null,
   "metadata": {},
   "outputs": [],
   "source": [
    "import matplotlib.pyplot as plt\n",
    "from mpl_toolkits.mplot3d import Axes3D"
   ]
  },
  {
   "cell_type": "code",
   "execution_count": null,
   "metadata": {},
   "outputs": [],
   "source": [
    "%matplotlib notebook"
   ]
  },
  {
   "cell_type": "code",
   "execution_count": null,
   "metadata": {},
   "outputs": [],
   "source": [
    "points = gen_random_points(40, 2.5, phi_offset=-np.pi/2, multiplier=10, verbose=True)"
   ]
  },
  {
   "cell_type": "code",
   "execution_count": null,
   "metadata": {},
   "outputs": [],
   "source": [
    "fig = plt.figure(figsize=(10,10))\n",
    "ax = fig.add_subplot(111, projection='3d')\n",
    "xs = [pt[0] for pt in points]\n",
    "ys = [pt[1] for pt in points]\n",
    "zs = [pt[2] for pt in points]\n",
    "ax.scatter(xs, ys, zs)\n",
    "ax.set_xlim(-3,3)\n",
    "ax.set_xlabel('x')\n",
    "ax.set_ylim(-3,3)\n",
    "ax.set_ylabel('y')\n",
    "ax.set_zlim(-3,3)\n",
    "ax.set_zlabel('z')\n",
    "plt.show()"
   ]
  },
  {
   "cell_type": "code",
   "execution_count": null,
   "metadata": {},
   "outputs": [],
   "source": [
    "angles = gen_poisson_disc_angles(100, phi_range=np.pi*2, multiplier=5, verbose=True)"
   ]
  },
  {
   "cell_type": "code",
   "execution_count": null,
   "metadata": {},
   "outputs": [],
   "source": [
    "os.getcwd()"
   ]
  },
  {
   "cell_type": "code",
   "execution_count": null,
   "metadata": {},
   "outputs": [],
   "source": [
    "dest_dir = '../dnpsoup_analytics/outputs/CE/TEKPol'\n",
    "if not os.path.exists(dest_dir):\n",
    "    os.makedirs(dest_dir)\n",
    "angles_dest = os.path.join(dest_dir, 'angles100.log')\n",
    "print(angles_dest)\n",
    "with open(angles_dest, 'w+', encoding='utf-8') as f:\n",
    "    f.write('theta, phi\\n')\n",
    "    for angle in angles:\n",
    "        f.write(f'{angle.theta}, {angle.phi}\\n')\n",
    "        print('.', end='')\n",
    "print()"
   ]
  },
  {
   "cell_type": "code",
   "execution_count": null,
   "metadata": {},
   "outputs": [],
   "source": [
    "xs = []\n",
    "ys = []\n",
    "zs = []\n",
    "cutoff = 6\n",
    "for angle in angles[:cutoff]:\n",
    "    coord = calc_coordinate(angle, 1.0)\n",
    "    xs.append(coord[0])\n",
    "    ys.append(coord[1])\n",
    "    zs.append(coord[2])\n",
    "\n",
    "fig = plt.figure(figsize=(10,10))\n",
    "ax = fig.add_subplot(111, projection='3d')\n",
    "ax.scatter(xs, ys, zs)\n",
    "lower_lim = -1.1\n",
    "upper_lim = 1.1\n",
    "ax.set_xlim(lower_lim, upper_lim)\n",
    "ax.set_xlabel('x')\n",
    "ax.set_ylim(lower_lim, upper_lim)\n",
    "ax.set_ylabel('y')\n",
    "ax.set_zlim(lower_lim, upper_lim)\n",
    "ax.set_zlabel('z')\n",
    "plt.show()"
   ]
  },
  {
   "cell_type": "markdown",
   "metadata": {},
   "source": [
    "## Generate inputs for Custom Angles"
   ]
  },
  {
   "cell_type": "code",
   "execution_count": null,
   "metadata": {},
   "outputs": [],
   "source": [
    "import json\n",
    "from copy import deepcopy"
   ]
  },
  {
   "cell_type": "code",
   "execution_count": null,
   "metadata": {},
   "outputs": [],
   "source": [
    "os.getcwd()"
   ]
  },
  {
   "cell_type": "code",
   "execution_count": null,
   "metadata": {},
   "outputs": [],
   "source": [
    "orig_filepath = '../dnpsoup_analytics/inputs/CE/TEKPol/TEKPol_400MHz_8kHz_fp_custom_seed_inc40ns_simple_addition.json'\n",
    "dest_filepath = '../dnpsoup_analytics/inputs/CE/TEKPol/TEKPol_400MHz_8kHz_fp_custom100_inc40ns_simple_addition.json'"
   ]
  },
  {
   "cell_type": "code",
   "execution_count": null,
   "metadata": {},
   "outputs": [],
   "source": [
    "with open(orig_filepath) as f:\n",
    "    data = json.load(f)\n",
    "print(json.dumps(data, indent=2))"
   ]
  },
  {
   "cell_type": "code",
   "execution_count": null,
   "metadata": {},
   "outputs": [],
   "source": [
    "data[\"settings\"][\"eulers\"] = []\n",
    "for idx, angle in enumerate(angles):\n",
    "    temp = {\n",
    "        \"alpha\": angle.phi,\n",
    "        \"beta\": angle.theta,\n",
    "        \"gamma\": 0.0\n",
    "    }\n",
    "    data[\"settings\"][\"eulers\"].append(temp)\n",
    "with open(dest_filepath, 'w') as json_file:\n",
    "    json.dump(data, json_file, indent=2)\n",
    "print('finished.')"
   ]
  },
  {
   "cell_type": "code",
   "execution_count": null,
   "metadata": {},
   "outputs": [],
   "source": []
  },
  {
   "cell_type": "code",
   "execution_count": null,
   "metadata": {},
   "outputs": [],
   "source": []
  },
  {
   "cell_type": "markdown",
   "metadata": {},
   "source": [
    "## Generate inputs for Box Model"
   ]
  },
  {
   "cell_type": "code",
   "execution_count": null,
   "metadata": {},
   "outputs": [],
   "source": [
    "import json\n",
    "from copy import deepcopy"
   ]
  },
  {
   "cell_type": "code",
   "execution_count": null,
   "metadata": {},
   "outputs": [],
   "source": [
    "os.getcwd()"
   ]
  },
  {
   "cell_type": "code",
   "execution_count": null,
   "metadata": {},
   "outputs": [],
   "source": [
    "orig_path = '../dnpsoup_analytics/inputs/CE/TEKPol/TEKPol_400MHz_8kHz_fp_ZCW34_inc50ns_box_seed_v2.json'\n",
    "dest_dir = '../dnpsoup_analytics/inputs/CE/TEKPol/box_coords_ZCW34_v2'\n",
    "# orig_path = '../dnpsoup_analytics/inputs/CE/AMUPol/AMUPol_14T_8kHz_fp_ZCW34_inc50ns_box_seed.json'\n",
    "# dest_dir = '../dnpsoup_analytics/inputs/CE/AMUPol/box_coords_ZCW34_v1'"
   ]
  },
  {
   "cell_type": "code",
   "execution_count": null,
   "metadata": {},
   "outputs": [],
   "source": [
    "if not os.path.exists(dest_dir):\n",
    "    os.makedirs(dest_dir)\n",
    "\n",
    "with open(orig_path) as f:\n",
    "    data = json.load(f)\n",
    "print(json.dumps(data, indent=2))"
   ]
  },
  {
   "cell_type": "code",
   "execution_count": null,
   "metadata": {},
   "outputs": [],
   "source": [
    "type(angles[0])"
   ]
  },
  {
   "cell_type": "code",
   "execution_count": null,
   "metadata": {},
   "outputs": [],
   "source": [
    "for idx, angle in enumerate(angles):\n",
    "    temp = deepcopy(data)\n",
    "    temp['settings']['euler']['alpha'] = float(angle.phi)\n",
    "    temp['settings']['euler']['beta'] = float(angle.theta)\n",
    "    temp['settings']['euler']['gamma'] = 0.0\n",
    "    temp['settings']['Probe']['mas_increment'] = 5.0e-8\n",
    "    \n",
    "    new_filename = f'eeH_box_{idx:02d}.json'\n",
    "    new_filepath = os.path.join(dest_dir, new_filename)\n",
    "    with open(new_filepath, 'w') as json_file:\n",
    "        json.dump(temp, json_file, indent=2)\n",
    "        print('.', end='')\n",
    "print()\n",
    "print('finished.')"
   ]
  },
  {
   "cell_type": "code",
   "execution_count": null,
   "metadata": {},
   "outputs": [],
   "source": [
    "13735/3600"
   ]
  },
  {
   "cell_type": "code",
   "execution_count": null,
   "metadata": {},
   "outputs": [],
   "source": []
  },
  {
   "cell_type": "markdown",
   "metadata": {},
   "source": [
    "## Generate inputs"
   ]
  },
  {
   "cell_type": "code",
   "execution_count": null,
   "metadata": {},
   "outputs": [],
   "source": [
    "import json\n",
    "from copy import deepcopy"
   ]
  },
  {
   "cell_type": "code",
   "execution_count": null,
   "metadata": {},
   "outputs": [],
   "source": [
    "os.getcwd()"
   ]
  },
  {
   "cell_type": "code",
   "execution_count": null,
   "metadata": {},
   "outputs": [],
   "source": [
    "orig_filepath = '../dnpsoup_analytics/inputs/CE/TEKPol/TEKPol_400MHz_8kHz_fp_ZCW55_inc40ns_H_seed.json'\n",
    "dest_dir = '../dnpsoup_analytics/inputs/CE/TEKPol/H_coords_ZCW55'"
   ]
  },
  {
   "cell_type": "code",
   "execution_count": null,
   "metadata": {},
   "outputs": [],
   "source": [
    "if not os.path.exists(dest_dir):\n",
    "    os.makedirs(dest_dir)\n",
    "\n",
    "with open(orig_filepath) as f:\n",
    "    data = json.load(f)\n",
    "print(json.dumps(data, indent=2))"
   ]
  },
  {
   "cell_type": "code",
   "execution_count": null,
   "metadata": {},
   "outputs": [],
   "source": [
    "type(points[0][0])"
   ]
  },
  {
   "cell_type": "code",
   "execution_count": null,
   "metadata": {},
   "outputs": [],
   "source": [
    "for idx, point in enumerate(points):\n",
    "    temp = deepcopy(data)\n",
    "    temp['spinsys']['spins']['2']['x'] = float(point[0])\n",
    "    temp['spinsys']['spins']['2']['y'] = float(point[1])\n",
    "    temp['spinsys']['spins']['2']['z'] = float(point[2])\n",
    "    new_filename = f'eeH_{idx:02d}.json'\n",
    "    new_filepath = os.path.join(dest_dir, new_filename)\n",
    "    with open(new_filepath, 'w') as json_file:\n",
    "        json.dump(temp, json_file, indent=2)\n",
    "        print('.', end='')\n",
    "print()\n",
    "print('finished.')"
   ]
  },
  {
   "cell_type": "code",
   "execution_count": null,
   "metadata": {},
   "outputs": [],
   "source": [
    "fig = plt.figure(figsize=(10,10))\n",
    "cutoff = 4\n",
    "ax = fig.add_subplot(111, projection='3d')\n",
    "xs = [pt[0] for pt in points[:cutoff]]\n",
    "ys = [pt[1] for pt in points[:cutoff]]\n",
    "zs = [pt[2] for pt in points[:cutoff]]\n",
    "ax.scatter(xs, ys, zs)\n",
    "ax.set_xlim(-3,3)\n",
    "ax.set_xlabel('x')\n",
    "ax.set_ylim(-3,3)\n",
    "ax.set_ylabel('y')\n",
    "ax.set_zlim(-3,3)\n",
    "ax.set_zlabel('z')\n",
    "plt.show()"
   ]
  },
  {
   "cell_type": "code",
   "execution_count": null,
   "metadata": {},
   "outputs": [],
   "source": []
  }
 ],
 "metadata": {
  "kernelspec": {
   "display_name": "Python 3",
   "language": "python",
   "name": "python3"
  },
  "language_info": {
   "codemirror_mode": {
    "name": "ipython",
    "version": 3
   },
   "file_extension": ".py",
   "mimetype": "text/x-python",
   "name": "python",
   "nbconvert_exporter": "python",
   "pygments_lexer": "ipython3",
   "version": "3.9.0"
  }
 },
 "nbformat": 4,
 "nbformat_minor": 4
}
