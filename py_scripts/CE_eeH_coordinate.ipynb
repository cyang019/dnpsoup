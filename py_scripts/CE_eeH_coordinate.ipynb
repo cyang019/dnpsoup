{
 "cells": [
  {
   "cell_type": "code",
   "execution_count": 2,
   "metadata": {},
   "outputs": [],
   "source": [
    "# Mentink-Vigier, F., Barra, A. L., Van Tol, J., Hediger, S., Lee, D., & De Paëpe, G. (2019). \n",
    "# De novo prediction of cross-effect efficiency for magic angle spinning dynamic nuclear polarization. \n",
    "# Physical Chemistry Chemical Physics, 21(4), 2166–2176. https://doi.org/10.1039/c8cp06819d"
   ]
  },
  {
   "cell_type": "code",
   "execution_count": 1,
   "metadata": {},
   "outputs": [],
   "source": [
    "import numpy as np\n",
    "import pandas as pd\n",
    "import matplotlib.pyplot as plt\n",
    "import os\n",
    "%matplotlib inline"
   ]
  },
  {
   "cell_type": "code",
   "execution_count": 3,
   "metadata": {},
   "outputs": [],
   "source": [
    "def orientation_to_coord(d, phi, theta):\n",
    "    x = d * np.sin(theta) * np.cos(phi)\n",
    "    y = d * np.sin(theta) * np.sin(phi)\n",
    "    z = d * np.cos(theta)\n",
    "    return x, y, z"
   ]
  },
  {
   "cell_type": "code",
   "execution_count": 15,
   "metadata": {},
   "outputs": [
    {
     "data": {
      "text/plain": [
       "(1.3819933608260593, 1.6469955527058022, 3.7239092362730863)"
      ]
     },
     "execution_count": 15,
     "metadata": {},
     "output_type": "execute_result"
    }
   ],
   "source": [
    "theta = np.pi / 180.0 * 30\n",
    "phi = np.pi / 180.0 * 50.0\n",
    "\n",
    "orientation_to_coord(4.3, phi, theta)"
   ]
  },
  {
   "cell_type": "code",
   "execution_count": 9,
   "metadata": {},
   "outputs": [],
   "source": [
    "def active_rotate(a, b, g):\n",
    "    ca = np.cos(a)\n",
    "    cb = np.cos(b)\n",
    "    cg = np.cos(g)\n",
    "    sa = np.sin(a)\n",
    "    sb = np.sin(b)\n",
    "    sg = np.sin(g)\n",
    "    r = np.array([\n",
    "        [ca*cb*cg-sa*sg, -ca*cb*sg - sa*cg, ca*sb],\n",
    "        [sa*cb*cg + ca*sg, -sa*cb*sg + ca * cg, sa * sb],\n",
    "        [-sb*cg, sb * sg, cb]\n",
    "    ])\n",
    "    return r"
   ]
  },
  {
   "cell_type": "code",
   "execution_count": 16,
   "metadata": {},
   "outputs": [],
   "source": [
    "r_mat = active_rotate(phi, theta, 0)"
   ]
  },
  {
   "cell_type": "code",
   "execution_count": 17,
   "metadata": {},
   "outputs": [
    {
     "data": {
      "text/plain": [
       "array([[6.76313716],\n",
       "       [1.19252356],\n",
       "       [3.01460832]])"
      ]
     },
     "execution_count": 17,
     "metadata": {},
     "output_type": "execute_result"
    }
   ],
   "source": [
    "r_mat.dot(np.array([[0], [0], [7.5]]))"
   ]
  },
  {
   "cell_type": "code",
   "execution_count": null,
   "metadata": {},
   "outputs": [],
   "source": []
  }
 ],
 "metadata": {
  "kernelspec": {
   "display_name": "Python 3",
   "language": "python",
   "name": "python3"
  },
  "language_info": {
   "codemirror_mode": {
    "name": "ipython",
    "version": 3
   },
   "file_extension": ".py",
   "mimetype": "text/x-python",
   "name": "python",
   "nbconvert_exporter": "python",
   "pygments_lexer": "ipython3",
   "version": "3.9.0"
  }
 },
 "nbformat": 4,
 "nbformat_minor": 4
}
