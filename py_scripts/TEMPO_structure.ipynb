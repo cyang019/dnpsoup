{
 "cells": [
  {
   "cell_type": "code",
   "execution_count": null,
   "metadata": {},
   "outputs": [],
   "source": [
    "import os\n",
    "import re\n",
    "import numpy as np\n",
    "import pandas as pd\n",
    "import matplotlib.pyplot as plt"
   ]
  },
  {
   "cell_type": "code",
   "execution_count": null,
   "metadata": {},
   "outputs": [],
   "source": [
    "%matplotlib inline"
   ]
  },
  {
   "cell_type": "code",
   "execution_count": null,
   "metadata": {},
   "outputs": [],
   "source": [
    "num_pattern = r'-?\\d*\\.*\\d+'"
   ]
  },
  {
   "cell_type": "code",
   "execution_count": null,
   "metadata": {},
   "outputs": [],
   "source": [
    "re.search(num_pattern, 'a.321bc').group(0)"
   ]
  },
  {
   "cell_type": "code",
   "execution_count": null,
   "metadata": {},
   "outputs": [],
   "source": [
    "atom_row_pattern = f'({num_pattern})\\\\s+({num_pattern})\\\\s+({num_pattern})\\\\s+([a-zA-Z]+)\\\\s+\\\\d+'"
   ]
  },
  {
   "cell_type": "code",
   "execution_count": null,
   "metadata": {},
   "outputs": [],
   "source": [
    "bond_pattern = r'(\\d+)\\s+(\\d+)\\s+(\\d+)\\s+\\d+\\s+\\d+\\s+\\d+\\s+\\d+'"
   ]
  },
  {
   "cell_type": "code",
   "execution_count": null,
   "metadata": {},
   "outputs": [],
   "source": [
    "class Atom:\n",
    "    def __init__(self, x, y, z, name):\n",
    "        self.x = x\n",
    "        self.y = y\n",
    "        self.z = z\n",
    "        self.name = name\n",
    "        \n",
    "    def __repr__(self):\n",
    "        repr_str = f'[{self.name}] x: {self.x}, y: {self.y}, z: {self.z}'\n",
    "        return repr_str\n",
    "    \n",
    "    def __sub__(self, other):\n",
    "        x = self.x - other.x\n",
    "        y = self.y - other.y\n",
    "        z = self.z - other.z\n",
    "        return np.array([x, y, z])\n",
    "    \n",
    "    def __add__(self, other):\n",
    "        x = self.x + other.x\n",
    "        y = self.y + other.y\n",
    "        z = self.z + other.z\n",
    "        return np.array([x, y, z])\n",
    "    \n",
    "    def coord(self):\n",
    "        return np.array([self.x, self.y, self.z])\n",
    "        \n",
    "        \n",
    "class Bond:\n",
    "    def __init__(self, index1, index2, order=1):\n",
    "        self.index1 = index1\n",
    "        self.index2 = index2\n",
    "        self.order = order\n",
    "        \n",
    "    def __repr__(self):\n",
    "        repr_str = f'[{self.index1} - {self.index2}] order: {self.order}'\n",
    "        return repr_str"
   ]
  },
  {
   "cell_type": "code",
   "execution_count": null,
   "metadata": {},
   "outputs": [],
   "source": [
    "molecule = {\n",
    "    'atoms': [],\n",
    "    'bonds': []\n",
    "}\n",
    "\n",
    "filename = 'tempo_2006285.mol'\n",
    "with open(filename, 'r', encoding='utf-8') as f:\n",
    "    for line in f:\n",
    "        found = re.search(atom_row_pattern, line)\n",
    "        if found:\n",
    "            x, y, z, name = found.group(1),found.group(2), found.group(3), found.group(4)\n",
    "            atom = Atom(float(x), float(y), float(z), name)\n",
    "            molecule['atoms'].append(atom)\n",
    "        else:\n",
    "            found = re.match(bond_pattern, line.rstrip().lstrip())\n",
    "            if found:\n",
    "                idx1, idx2, order = found.group(1), found.group(2), found.group(3)\n",
    "                if int(order) == 0:\n",
    "                    # matched wrong line\n",
    "                    continue\n",
    "                bond = Bond(int(idx1), int(idx2), int(order))\n",
    "                molecule['bonds'].append(bond)"
   ]
  },
  {
   "cell_type": "code",
   "execution_count": null,
   "metadata": {},
   "outputs": [],
   "source": [
    "for i, atom in enumerate(molecule['atoms']):\n",
    "    # 1-based index\n",
    "    print(f'{i+1}: {atom}')"
   ]
  },
  {
   "cell_type": "code",
   "execution_count": null,
   "metadata": {},
   "outputs": [],
   "source": [
    "molecule['bonds']"
   ]
  },
  {
   "cell_type": "code",
   "execution_count": null,
   "metadata": {},
   "outputs": [],
   "source": [
    "vec_n_o = molecule['atoms'][0] - molecule['atoms'][1]\n",
    "print(vec_n_o)"
   ]
  },
  {
   "cell_type": "code",
   "execution_count": null,
   "metadata": {},
   "outputs": [],
   "source": [
    "vec_c3_c4 = molecule['atoms'][2] - molecule['atoms'][3]\n",
    "print(vec_c3_c4)"
   ]
  },
  {
   "cell_type": "code",
   "execution_count": null,
   "metadata": {},
   "outputs": [],
   "source": [
    "vec_n_o.dot(vec_c3_c4)"
   ]
  },
  {
   "cell_type": "code",
   "execution_count": null,
   "metadata": {},
   "outputs": [],
   "source": [
    "vec_n_o_norm = vec_n_o / np.linalg.norm(vec_n_o)\n",
    "print(vec_n_o_norm)"
   ]
  },
  {
   "cell_type": "code",
   "execution_count": null,
   "metadata": {},
   "outputs": [],
   "source": [
    "vec_c3_c4_norm = vec_c3_c4 / np.linalg.norm(vec_c3_c4)\n",
    "print(vec_c3_c4_norm)"
   ]
  },
  {
   "cell_type": "code",
   "execution_count": null,
   "metadata": {},
   "outputs": [],
   "source": [
    "vec_n_o_norm.dot(vec_c3_c4_norm)"
   ]
  },
  {
   "cell_type": "code",
   "execution_count": null,
   "metadata": {},
   "outputs": [],
   "source": [
    "vec_y = vec_c3_c4_norm - vec_n_o_norm * (vec_n_o_norm.dot(vec_c3_c4_norm))\n",
    "vec_y = vec_y / np.linalg.norm(vec_y)\n",
    "print(vec_y)"
   ]
  },
  {
   "cell_type": "code",
   "execution_count": null,
   "metadata": {},
   "outputs": [],
   "source": [
    "vec_y.dot(vec_n_o_norm)"
   ]
  },
  {
   "cell_type": "code",
   "execution_count": null,
   "metadata": {},
   "outputs": [],
   "source": [
    "vec_x = vec_n_o_norm"
   ]
  },
  {
   "cell_type": "code",
   "execution_count": null,
   "metadata": {},
   "outputs": [],
   "source": [
    "vec_z = np.cross(vec_x, vec_y)\n",
    "vec_z = vec_z / np.linalg.norm(vec_z)\n",
    "print(vec_z)"
   ]
  },
  {
   "cell_type": "code",
   "execution_count": null,
   "metadata": {},
   "outputs": [],
   "source": [
    "vec_z.dot(vec_x)"
   ]
  },
  {
   "cell_type": "code",
   "execution_count": null,
   "metadata": {},
   "outputs": [],
   "source": [
    "vec_z.dot(vec_y)"
   ]
  },
  {
   "cell_type": "code",
   "execution_count": null,
   "metadata": {},
   "outputs": [],
   "source": [
    "def get_new_coord(coord, x, y, z):\n",
    "    new_x = coord.dot(x)\n",
    "    new_y = coord.dot(y)\n",
    "    new_z = coord.dot(z)\n",
    "    return np.array([new_x, new_y, new_z])"
   ]
  },
  {
   "cell_type": "code",
   "execution_count": null,
   "metadata": {},
   "outputs": [],
   "source": [
    "origin = molecule['atoms'][1]    # N\n",
    "H_coords = []\n",
    "for atom in molecule['atoms']:\n",
    "    if atom.name.upper() == 'H':\n",
    "        xyz = atom.coord() - origin.coord()\n",
    "        new_xyz = get_new_coord(xyz, vec_x, vec_y, vec_z)\n",
    "        H_coords.append(new_xyz)"
   ]
  },
  {
   "cell_type": "code",
   "execution_count": null,
   "metadata": {},
   "outputs": [],
   "source": [
    "for xyz in H_coords:\n",
    "    dist = np.linalg.norm(xyz)\n",
    "    print(f'{xyz}: {dist}')"
   ]
  },
  {
   "cell_type": "code",
   "execution_count": null,
   "metadata": {},
   "outputs": [],
   "source": []
  }
 ],
 "metadata": {
  "kernelspec": {
   "display_name": "Python 3",
   "language": "python",
   "name": "python3"
  },
  "language_info": {
   "codemirror_mode": {
    "name": "ipython",
    "version": 3
   },
   "file_extension": ".py",
   "mimetype": "text/x-python",
   "name": "python",
   "nbconvert_exporter": "python",
   "pygments_lexer": "ipython3",
   "version": "3.9.0"
  }
 },
 "nbformat": 4,
 "nbformat_minor": 4
}
