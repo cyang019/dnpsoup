{
 "cells": [
  {
   "cell_type": "code",
   "execution_count": 3,
   "metadata": {},
   "outputs": [],
   "source": [
    "import os\n",
    "import re\n",
    "import numpy as np\n",
    "import pandas as pd\n",
    "import matplotlib.pyplot as plt"
   ]
  },
  {
   "cell_type": "code",
   "execution_count": 2,
   "metadata": {},
   "outputs": [],
   "source": [
    "%matplotlib inline"
   ]
  },
  {
   "cell_type": "code",
   "execution_count": 4,
   "metadata": {},
   "outputs": [],
   "source": [
    "num_pattern = r'-?\\d*\\.*\\d+'"
   ]
  },
  {
   "cell_type": "code",
   "execution_count": 10,
   "metadata": {},
   "outputs": [
    {
     "data": {
      "text/plain": [
       "'.321'"
      ]
     },
     "execution_count": 10,
     "metadata": {},
     "output_type": "execute_result"
    }
   ],
   "source": [
    "re.search(num_pattern, 'a.321bc').group(0)"
   ]
  },
  {
   "cell_type": "code",
   "execution_count": 12,
   "metadata": {},
   "outputs": [],
   "source": [
    "atom_row_pattern = f'({num_pattern})\\\\s+({num_pattern})\\\\s+({num_pattern})\\\\s+([a-zA-Z]+)\\\\s+\\\\d+'"
   ]
  },
  {
   "cell_type": "code",
   "execution_count": 34,
   "metadata": {},
   "outputs": [],
   "source": [
    "bond_pattern = r'(\\d+)\\s+(\\d+)\\s+(\\d+)\\s+\\d+\\s+\\d+\\s+\\d+\\s+\\d+'"
   ]
  },
  {
   "cell_type": "code",
   "execution_count": 58,
   "metadata": {},
   "outputs": [],
   "source": [
    "class Atom:\n",
    "    def __init__(self, x, y, z, name):\n",
    "        self.x = x\n",
    "        self.y = y\n",
    "        self.z = z\n",
    "        self.name = name\n",
    "        \n",
    "    def __repr__(self):\n",
    "        repr_str = f'[{self.name}] x: {self.x}, y: {self.y}, z: {self.z}'\n",
    "        return repr_str\n",
    "    \n",
    "    def __sub__(self, other):\n",
    "        x = self.x - other.x\n",
    "        y = self.y - other.y\n",
    "        z = self.z - other.z\n",
    "        return np.array([x, y, z])\n",
    "    \n",
    "    def __add__(self, other):\n",
    "        x = self.x + other.x\n",
    "        y = self.y + other.y\n",
    "        z = self.z + other.z\n",
    "        return np.array([x, y, z])\n",
    "    \n",
    "    def coord(self):\n",
    "        return np.array([self.x, self.y, self.z])\n",
    "        \n",
    "        \n",
    "class Bond:\n",
    "    def __init__(self, index1, index2, order=1):\n",
    "        self.index1 = index1\n",
    "        self.index2 = index2\n",
    "        self.order = order\n",
    "        \n",
    "    def __repr__(self):\n",
    "        repr_str = f'[{self.index1} - {self.index2}] order: {self.order}'\n",
    "        return repr_str"
   ]
  },
  {
   "cell_type": "code",
   "execution_count": 59,
   "metadata": {},
   "outputs": [],
   "source": [
    "molecule = {\n",
    "    'atoms': [],\n",
    "    'bonds': []\n",
    "}\n",
    "\n",
    "filename = 'tempo_2006285.mol'\n",
    "with open(filename, 'r', encoding='utf-8') as f:\n",
    "    for line in f:\n",
    "        found = re.search(atom_row_pattern, line)\n",
    "        if found:\n",
    "            x, y, z, name = found.group(1),found.group(2), found.group(3), found.group(4)\n",
    "            atom = Atom(float(x), float(y), float(z), name)\n",
    "            molecule['atoms'].append(atom)\n",
    "        else:\n",
    "            found = re.match(bond_pattern, line.rstrip().lstrip())\n",
    "            if found:\n",
    "                idx1, idx2, order = found.group(1), found.group(2), found.group(3)\n",
    "                if int(order) == 0:\n",
    "                    # matched wrong line\n",
    "                    continue\n",
    "                bond = Bond(int(idx1), int(idx2), int(order))\n",
    "                molecule['bonds'].append(bond)"
   ]
  },
  {
   "cell_type": "code",
   "execution_count": 60,
   "metadata": {},
   "outputs": [
    {
     "name": "stdout",
     "output_type": "stream",
     "text": [
      "1: [O] x: -2.0904, y: -0.833, z: -0.084\n",
      "2: [N] x: -0.8358, y: -0.3332, z: 0.1294\n",
      "3: [C] x: 0.2799, y: -1.3339, z: 0.05\n",
      "4: [C] x: -0.7143, y: 1.161, z: 0.0499\n",
      "5: [C] x: 1.6979, y: -0.6901, z: 0.2443\n",
      "6: [C] x: 0.758, y: 1.6686, z: 0.2441\n",
      "7: [C] x: 1.843, y: 0.7345, z: -0.3354\n",
      "8: [C] x: 0.0258, y: -2.3431, z: 1.2159\n",
      "9: [C] x: 0.2189, y: -2.0966, z: -1.3123\n",
      "10: [C] x: -1.5927, y: 1.7186, z: 1.2158\n",
      "11: [C] x: -1.2831, y: 1.6724, z: -1.3123\n",
      "12: [H] x: 1.9522, y: -0.6151, z: 1.3061\n",
      "13: [H] x: 2.4817, y: -1.3187, z: -0.1889\n",
      "14: [H] x: 0.9941, y: 1.7895, z: 1.3059\n",
      "15: [H] x: 0.8946, y: 2.6641, z: -0.1893\n",
      "16: [H] x: 2.8292, y: 1.1274, z: -0.0673\n",
      "17: [H] x: 1.7927, y: 0.7143, z: -1.426\n",
      "18: [H] x: -0.0093, y: -1.8209, z: 2.1759\n",
      "19: [H] x: 0.8121, y: -3.0982, z: 1.2754\n",
      "20: [H] x: -0.9251, y: -2.8691, z: 1.1062\n",
      "21: [H] x: 0.37, y: -1.4167, z: -2.1523\n",
      "22: [H] x: 0.9825, y: -2.8765, z: -1.3682\n",
      "23: [H] x: -0.7431, y: -2.5923, z: -1.46\n",
      "24: [H] x: -1.259, y: 1.3156, z: 2.1759\n",
      "25: [H] x: -1.5413, y: 2.8077, z: 1.2753\n",
      "26: [H] x: -2.6448, y: 1.4464, z: 1.1063\n",
      "27: [H] x: -0.7059, y: 1.2828, z: -2.1523\n",
      "28: [H] x: -1.2653, y: 2.7639, z: -1.3683\n",
      "29: [H] x: -2.3225, y: 1.3706, z: -1.46\n"
     ]
    }
   ],
   "source": [
    "for i, atom in enumerate(molecule['atoms']):\n",
    "    # 1-based index\n",
    "    print(f'{i+1}: {atom}')"
   ]
  },
  {
   "cell_type": "code",
   "execution_count": 61,
   "metadata": {},
   "outputs": [
    {
     "data": {
      "text/plain": [
       "[[1 - 2] order: 1,\n",
       " [2 - 3] order: 1,\n",
       " [2 - 4] order: 1,\n",
       " [3 - 5] order: 1,\n",
       " [3 - 8] order: 1,\n",
       " [3 - 9] order: 1,\n",
       " [4 - 6] order: 1,\n",
       " [4 - 10] order: 1,\n",
       " [4 - 11] order: 1,\n",
       " [5 - 7] order: 1,\n",
       " [5 - 12] order: 1,\n",
       " [5 - 13] order: 1,\n",
       " [6 - 7] order: 1,\n",
       " [6 - 14] order: 1,\n",
       " [6 - 15] order: 1,\n",
       " [7 - 16] order: 1,\n",
       " [7 - 17] order: 1,\n",
       " [8 - 18] order: 1,\n",
       " [8 - 19] order: 1,\n",
       " [8 - 20] order: 1,\n",
       " [9 - 21] order: 1,\n",
       " [9 - 22] order: 1,\n",
       " [9 - 23] order: 1,\n",
       " [10 - 24] order: 1,\n",
       " [10 - 25] order: 1,\n",
       " [10 - 26] order: 1,\n",
       " [11 - 27] order: 1,\n",
       " [11 - 28] order: 1,\n",
       " [11 - 29] order: 1]"
      ]
     },
     "execution_count": 61,
     "metadata": {},
     "output_type": "execute_result"
    }
   ],
   "source": [
    "molecule['bonds']"
   ]
  },
  {
   "cell_type": "code",
   "execution_count": 65,
   "metadata": {},
   "outputs": [
    {
     "name": "stdout",
     "output_type": "stream",
     "text": [
      "[-1.2546 -0.4998 -0.2134]\n"
     ]
    }
   ],
   "source": [
    "vec_n_o = molecule['atoms'][0] - molecule['atoms'][1]\n",
    "print(vec_n_o)"
   ]
  },
  {
   "cell_type": "code",
   "execution_count": 69,
   "metadata": {},
   "outputs": [
    {
     "name": "stdout",
     "output_type": "stream",
     "text": [
      "[ 9.9420e-01 -2.4949e+00  1.0000e-04]\n"
     ]
    }
   ],
   "source": [
    "vec_c3_c4 = molecule['atoms'][2] - molecule['atoms'][3]\n",
    "print(vec_c3_c4)"
   ]
  },
  {
   "cell_type": "code",
   "execution_count": 70,
   "metadata": {},
   "outputs": [
    {
     "data": {
      "text/plain": [
       "-0.0003936399999999927"
      ]
     },
     "execution_count": 70,
     "metadata": {},
     "output_type": "execute_result"
    }
   ],
   "source": [
    "vec_n_o.dot(vec_c3_c4)"
   ]
  },
  {
   "cell_type": "code",
   "execution_count": 71,
   "metadata": {},
   "outputs": [
    {
     "name": "stdout",
     "output_type": "stream",
     "text": [
      "[-0.91761123 -0.36555244 -0.15608021]\n"
     ]
    }
   ],
   "source": [
    "vec_n_o_norm = vec_n_o / np.linalg.norm(vec_n_o)\n",
    "print(vec_n_o_norm)"
   ]
  },
  {
   "cell_type": "code",
   "execution_count": 72,
   "metadata": {},
   "outputs": [
    {
     "name": "stdout",
     "output_type": "stream",
     "text": [
      "[ 3.70183457e-01 -9.28958668e-01  3.72343047e-05]\n"
     ]
    }
   ],
   "source": [
    "vec_c3_c4_norm = vec_c3_c4 / np.linalg.norm(vec_c3_c4)\n",
    "print(vec_c3_c4_norm)"
   ]
  },
  {
   "cell_type": "code",
   "execution_count": 73,
   "metadata": {},
   "outputs": [
    {
     "data": {
      "text/plain": [
       "-0.00010720027770776481"
      ]
     },
     "execution_count": 73,
     "metadata": {},
     "output_type": "execute_result"
    }
   ],
   "source": [
    "vec_n_o_norm.dot(vec_c3_c4_norm)"
   ]
  },
  {
   "cell_type": "code",
   "execution_count": 76,
   "metadata": {},
   "outputs": [
    {
     "name": "stdout",
     "output_type": "stream",
     "text": [
      "[ 3.70085091e-01 -9.28997861e-01  2.05024624e-05]\n"
     ]
    }
   ],
   "source": [
    "vec_y = vec_c3_c4_norm - vec_n_o_norm * (vec_n_o_norm.dot(vec_c3_c4_norm))\n",
    "vec_y = vec_y / np.linalg.norm(vec_y)\n",
    "print(vec_y)"
   ]
  },
  {
   "cell_type": "code",
   "execution_count": 77,
   "metadata": {},
   "outputs": [
    {
     "data": {
      "text/plain": [
       "-2.930310481026252e-18"
      ]
     },
     "execution_count": 77,
     "metadata": {},
     "output_type": "execute_result"
    }
   ],
   "source": [
    "vec_y.dot(vec_n_o_norm)"
   ]
  },
  {
   "cell_type": "code",
   "execution_count": 78,
   "metadata": {},
   "outputs": [],
   "source": [
    "vec_x = vec_n_o_norm"
   ]
  },
  {
   "cell_type": "code",
   "execution_count": 80,
   "metadata": {},
   "outputs": [
    {
     "name": "stdout",
     "output_type": "stream",
     "text": [
      "[-0.14500568 -0.05774415  0.98774438]\n"
     ]
    }
   ],
   "source": [
    "vec_z = np.cross(vec_x, vec_y)\n",
    "vec_z = vec_z / np.linalg.norm(vec_z)\n",
    "print(vec_z)"
   ]
  },
  {
   "cell_type": "code",
   "execution_count": 81,
   "metadata": {},
   "outputs": [
    {
     "data": {
      "text/plain": [
       "-2.7755575615628914e-17"
      ]
     },
     "execution_count": 81,
     "metadata": {},
     "output_type": "execute_result"
    }
   ],
   "source": [
    "vec_z.dot(vec_x)"
   ]
  },
  {
   "cell_type": "code",
   "execution_count": 82,
   "metadata": {},
   "outputs": [
    {
     "data": {
      "text/plain": [
       "-3.3203691532368573e-18"
      ]
     },
     "execution_count": 82,
     "metadata": {},
     "output_type": "execute_result"
    }
   ],
   "source": [
    "vec_z.dot(vec_y)"
   ]
  },
  {
   "cell_type": "code",
   "execution_count": 83,
   "metadata": {},
   "outputs": [],
   "source": [
    "def get_new_coord(coord, x, y, z):\n",
    "    new_x = coord.dot(x)\n",
    "    new_y = coord.dot(y)\n",
    "    new_z = coord.dot(z)\n",
    "    return np.array([new_x, new_y, new_z])"
   ]
  },
  {
   "cell_type": "code",
   "execution_count": 86,
   "metadata": {},
   "outputs": [],
   "source": [
    "origin = molecule['atoms'][1]    # N\n",
    "H_coords = []\n",
    "for atom in molecule['atoms']:\n",
    "    if atom.name.upper() == 'H':\n",
    "        xyz = atom.coord() - origin.coord()\n",
    "        new_xyz = get_new_coord(xyz, vec_x, vec_y, vec_z)\n",
    "        H_coords.append(new_xyz)"
   ]
  },
  {
   "cell_type": "code",
   "execution_count": 90,
   "metadata": {},
   "outputs": [
    {
     "name": "stdout",
     "output_type": "stream",
     "text": [
      "[-2.63891048  1.29370586  0.77428105]: 3.039249002632064\n",
      "[-2.63424301  2.14327816 -0.73854852]: 3.475389386816965\n",
      "[-2.63872334 -1.29474093  0.77416187]: 3.0394969238346\n",
      "[-2.63376205 -2.14409658 -0.7387885 ]: 3.4755806910500584\n",
      "[-3.86627010e+00 -5.36448537e-04 -8.10076240e-01]: 3.9502238227725774\n",
      "[-2.55209015e+00 -3.88486116e-04 -1.97797204e+00]: 3.2288601177505347\n",
      "[-0.53399148  1.6879874   1.98747765]: 2.6616753727680615\n",
      "[-0.68024697  3.1785658   1.05266277]: 3.4167404657070457\n",
      "[0.85648797 2.3228171  1.1242111 ]: 2.718989065811041\n",
      "[-0.35425133  1.452771   -2.36601842]: 2.7989427968431224\n",
      "[-0.50503725  3.03561528 -1.59604913]: 3.4666115357795717\n",
      "[ 0.98883086  2.13297337 -1.45291315]: 2.763750795567502\n",
      "[-0.53380795 -1.68830972  1.98757673]: 2.6619169652714567\n",
      "[-0.67964126 -3.17896092  1.0527892 ]: 3.4170264660959244\n",
      "[ 0.85694683 -2.32270849  1.12448128]: 2.719152583067011\n",
      "[-0.35380222 -1.45323327 -2.36588714]: 2.799014987455408\n",
      "[-0.50427711 -3.03618153 -1.59590422]: 3.4669300468858615\n",
      "[ 0.98945826 -2.13306465 -1.45272546]: 2.7639471214189317\n"
     ]
    }
   ],
   "source": [
    "for xyz in H_coords:\n",
    "    dist = np.linalg.norm(xyz)\n",
    "    print(f'{xyz}: {dist}')"
   ]
  },
  {
   "cell_type": "code",
   "execution_count": null,
   "metadata": {},
   "outputs": [],
   "source": []
  }
 ],
 "metadata": {
  "kernelspec": {
   "display_name": "Python 3",
   "language": "python",
   "name": "python3"
  },
  "language_info": {
   "codemirror_mode": {
    "name": "ipython",
    "version": 3
   },
   "file_extension": ".py",
   "mimetype": "text/x-python",
   "name": "python",
   "nbconvert_exporter": "python",
   "pygments_lexer": "ipython3",
   "version": "3.8.5"
  }
 },
 "nbformat": 4,
 "nbformat_minor": 4
}
